{
 "cells": [
  {
   "cell_type": "code",
   "execution_count": 39,
   "metadata": {},
   "outputs": [],
   "source": [
    "import pandas as pd\n",
    "import numpy as np\n",
    "from collections import Counter\n",
    "from operator import itemgetter"
   ]
  },
  {
   "cell_type": "markdown",
   "metadata": {},
   "source": [
    "Leemos el csv que creamos previamente"
   ]
  },
  {
   "cell_type": "code",
   "execution_count": 38,
   "metadata": {},
   "outputs": [
    {
     "data": {
      "text/html": [
       "<div>\n",
       "<style scoped>\n",
       "    .dataframe tbody tr th:only-of-type {\n",
       "        vertical-align: middle;\n",
       "    }\n",
       "\n",
       "    .dataframe tbody tr th {\n",
       "        vertical-align: top;\n",
       "    }\n",
       "\n",
       "    .dataframe thead th {\n",
       "        text-align: right;\n",
       "    }\n",
       "</style>\n",
       "<table border=\"1\" class=\"dataframe\">\n",
       "  <thead>\n",
       "    <tr style=\"text-align: right;\">\n",
       "      <th></th>\n",
       "      <th>Unnamed: 0</th>\n",
       "      <th>Id</th>\n",
       "      <th>type</th>\n",
       "      <th>title</th>\n",
       "      <th>director</th>\n",
       "      <th>cast</th>\n",
       "      <th>country</th>\n",
       "      <th>date_added</th>\n",
       "      <th>release_year</th>\n",
       "      <th>rating</th>\n",
       "      <th>duration</th>\n",
       "      <th>listed_in</th>\n",
       "      <th>description</th>\n",
       "      <th>Plataform</th>\n",
       "    </tr>\n",
       "  </thead>\n",
       "  <tbody>\n",
       "    <tr>\n",
       "      <th>0</th>\n",
       "      <td>0</td>\n",
       "      <td>1</td>\n",
       "      <td>Movie</td>\n",
       "      <td>The Grand Seduction</td>\n",
       "      <td>Don McKellar</td>\n",
       "      <td>Brendan Gleeson, Taylor Kitsch, Gordon Pinsent</td>\n",
       "      <td>Canada</td>\n",
       "      <td>March 30, 2021</td>\n",
       "      <td>2014</td>\n",
       "      <td>No info</td>\n",
       "      <td>113 min</td>\n",
       "      <td>Comedy, Drama</td>\n",
       "      <td>A small fishing village must procure a local d...</td>\n",
       "      <td>Amazon Prime</td>\n",
       "    </tr>\n",
       "    <tr>\n",
       "      <th>1</th>\n",
       "      <td>1</td>\n",
       "      <td>2</td>\n",
       "      <td>Movie</td>\n",
       "      <td>Take Care Good Night</td>\n",
       "      <td>Girish Joshi</td>\n",
       "      <td>Mahesh Manjrekar, Abhay Mahajan, Sachin Khedekar</td>\n",
       "      <td>India</td>\n",
       "      <td>March 30, 2021</td>\n",
       "      <td>2018</td>\n",
       "      <td>13+</td>\n",
       "      <td>110 min</td>\n",
       "      <td>Drama, International</td>\n",
       "      <td>A Metro Family decides to fight a Cyber Crimin...</td>\n",
       "      <td>Amazon Prime</td>\n",
       "    </tr>\n",
       "    <tr>\n",
       "      <th>2</th>\n",
       "      <td>2</td>\n",
       "      <td>3</td>\n",
       "      <td>Movie</td>\n",
       "      <td>Secrets of Deception</td>\n",
       "      <td>Josh Webber</td>\n",
       "      <td>Tom Sizemore, Lorenzo Lamas, Robert LaSardo, R...</td>\n",
       "      <td>United States</td>\n",
       "      <td>March 30, 2021</td>\n",
       "      <td>2017</td>\n",
       "      <td>No info</td>\n",
       "      <td>74 min</td>\n",
       "      <td>Action, Drama, Suspense</td>\n",
       "      <td>After a man discovers his wife is cheating on ...</td>\n",
       "      <td>Amazon Prime</td>\n",
       "    </tr>\n",
       "    <tr>\n",
       "      <th>3</th>\n",
       "      <td>3</td>\n",
       "      <td>4</td>\n",
       "      <td>Movie</td>\n",
       "      <td>Pink: Staying True</td>\n",
       "      <td>Sonia Anderson</td>\n",
       "      <td>Interviews with: Pink, Adele, Beyoncé, Britney...</td>\n",
       "      <td>United States</td>\n",
       "      <td>March 30, 2021</td>\n",
       "      <td>2014</td>\n",
       "      <td>No info</td>\n",
       "      <td>69 min</td>\n",
       "      <td>Documentary</td>\n",
       "      <td>Pink breaks the mold once again, bringing her ...</td>\n",
       "      <td>Amazon Prime</td>\n",
       "    </tr>\n",
       "    <tr>\n",
       "      <th>4</th>\n",
       "      <td>4</td>\n",
       "      <td>5</td>\n",
       "      <td>Movie</td>\n",
       "      <td>Monster Maker</td>\n",
       "      <td>Giles Foster</td>\n",
       "      <td>Harry Dean Stanton, Kieran O'Brien, George Cos...</td>\n",
       "      <td>United Kingdom</td>\n",
       "      <td>March 30, 2021</td>\n",
       "      <td>1989</td>\n",
       "      <td>No info</td>\n",
       "      <td>45 min</td>\n",
       "      <td>Drama, Fantasy</td>\n",
       "      <td>Teenage Matt Banting wants to work with a famo...</td>\n",
       "      <td>Amazon Prime</td>\n",
       "    </tr>\n",
       "    <tr>\n",
       "      <th>...</th>\n",
       "      <td>...</td>\n",
       "      <td>...</td>\n",
       "      <td>...</td>\n",
       "      <td>...</td>\n",
       "      <td>...</td>\n",
       "      <td>...</td>\n",
       "      <td>...</td>\n",
       "      <td>...</td>\n",
       "      <td>...</td>\n",
       "      <td>...</td>\n",
       "      <td>...</td>\n",
       "      <td>...</td>\n",
       "      <td>...</td>\n",
       "      <td>...</td>\n",
       "    </tr>\n",
       "    <tr>\n",
       "      <th>22993</th>\n",
       "      <td>8802</td>\n",
       "      <td>22994</td>\n",
       "      <td>Movie</td>\n",
       "      <td>Zodiac</td>\n",
       "      <td>David Fincher</td>\n",
       "      <td>Mark Ruffalo, Jake Gyllenhaal, Robert Downey J...</td>\n",
       "      <td>United States</td>\n",
       "      <td>November 20, 2019</td>\n",
       "      <td>2007</td>\n",
       "      <td>R</td>\n",
       "      <td>158 min</td>\n",
       "      <td>Cult Movies, Dramas, Thrillers</td>\n",
       "      <td>A political cartoonist, a crime reporter and a...</td>\n",
       "      <td>Netflix</td>\n",
       "    </tr>\n",
       "    <tr>\n",
       "      <th>22994</th>\n",
       "      <td>8803</td>\n",
       "      <td>22995</td>\n",
       "      <td>TV Show</td>\n",
       "      <td>Zombie Dumb</td>\n",
       "      <td>No info</td>\n",
       "      <td>No info</td>\n",
       "      <td>No info</td>\n",
       "      <td>July 1, 2019</td>\n",
       "      <td>2018</td>\n",
       "      <td>TV-Y7</td>\n",
       "      <td>2 Seasons</td>\n",
       "      <td>Kids' TV, Korean TV Shows, TV Comedies</td>\n",
       "      <td>While living alone in a spooky town, a young g...</td>\n",
       "      <td>Netflix</td>\n",
       "    </tr>\n",
       "    <tr>\n",
       "      <th>22995</th>\n",
       "      <td>8804</td>\n",
       "      <td>22996</td>\n",
       "      <td>Movie</td>\n",
       "      <td>Zombieland</td>\n",
       "      <td>Ruben Fleischer</td>\n",
       "      <td>Jesse Eisenberg, Woody Harrelson, Emma Stone, ...</td>\n",
       "      <td>United States</td>\n",
       "      <td>November 1, 2019</td>\n",
       "      <td>2009</td>\n",
       "      <td>R</td>\n",
       "      <td>88 min</td>\n",
       "      <td>Comedies, Horror Movies</td>\n",
       "      <td>Looking to survive in a world taken over by zo...</td>\n",
       "      <td>Netflix</td>\n",
       "    </tr>\n",
       "    <tr>\n",
       "      <th>22996</th>\n",
       "      <td>8805</td>\n",
       "      <td>22997</td>\n",
       "      <td>Movie</td>\n",
       "      <td>Zoom</td>\n",
       "      <td>Peter Hewitt</td>\n",
       "      <td>Tim Allen, Courteney Cox, Chevy Chase, Kate Ma...</td>\n",
       "      <td>United States</td>\n",
       "      <td>January 11, 2020</td>\n",
       "      <td>2006</td>\n",
       "      <td>PG</td>\n",
       "      <td>88 min</td>\n",
       "      <td>Children &amp; Family Movies, Comedies</td>\n",
       "      <td>Dragged from civilian life, a former superhero...</td>\n",
       "      <td>Netflix</td>\n",
       "    </tr>\n",
       "    <tr>\n",
       "      <th>22997</th>\n",
       "      <td>8806</td>\n",
       "      <td>22998</td>\n",
       "      <td>Movie</td>\n",
       "      <td>Zubaan</td>\n",
       "      <td>Mozez Singh</td>\n",
       "      <td>Vicky Kaushal, Sarah-Jane Dias, Raaghav Chanan...</td>\n",
       "      <td>India</td>\n",
       "      <td>March 2, 2019</td>\n",
       "      <td>2015</td>\n",
       "      <td>TV-14</td>\n",
       "      <td>111 min</td>\n",
       "      <td>Dramas, International Movies, Music &amp; Musicals</td>\n",
       "      <td>A scrappy but poor boy worms his way into a ty...</td>\n",
       "      <td>Netflix</td>\n",
       "    </tr>\n",
       "  </tbody>\n",
       "</table>\n",
       "<p>22998 rows × 14 columns</p>\n",
       "</div>"
      ],
      "text/plain": [
       "       Unnamed: 0     Id     type                 title         director  \\\n",
       "0               0      1    Movie   The Grand Seduction     Don McKellar   \n",
       "1               1      2    Movie  Take Care Good Night     Girish Joshi   \n",
       "2               2      3    Movie  Secrets of Deception      Josh Webber   \n",
       "3               3      4    Movie    Pink: Staying True   Sonia Anderson   \n",
       "4               4      5    Movie         Monster Maker     Giles Foster   \n",
       "...           ...    ...      ...                   ...              ...   \n",
       "22993        8802  22994    Movie                Zodiac    David Fincher   \n",
       "22994        8803  22995  TV Show           Zombie Dumb          No info   \n",
       "22995        8804  22996    Movie            Zombieland  Ruben Fleischer   \n",
       "22996        8805  22997    Movie                  Zoom     Peter Hewitt   \n",
       "22997        8806  22998    Movie                Zubaan      Mozez Singh   \n",
       "\n",
       "                                                    cast         country  \\\n",
       "0         Brendan Gleeson, Taylor Kitsch, Gordon Pinsent          Canada   \n",
       "1       Mahesh Manjrekar, Abhay Mahajan, Sachin Khedekar           India   \n",
       "2      Tom Sizemore, Lorenzo Lamas, Robert LaSardo, R...   United States   \n",
       "3      Interviews with: Pink, Adele, Beyoncé, Britney...   United States   \n",
       "4      Harry Dean Stanton, Kieran O'Brien, George Cos...  United Kingdom   \n",
       "...                                                  ...             ...   \n",
       "22993  Mark Ruffalo, Jake Gyllenhaal, Robert Downey J...   United States   \n",
       "22994                                            No info         No info   \n",
       "22995  Jesse Eisenberg, Woody Harrelson, Emma Stone, ...   United States   \n",
       "22996  Tim Allen, Courteney Cox, Chevy Chase, Kate Ma...   United States   \n",
       "22997  Vicky Kaushal, Sarah-Jane Dias, Raaghav Chanan...           India   \n",
       "\n",
       "              date_added  release_year   rating   duration  \\\n",
       "0         March 30, 2021          2014  No info    113 min   \n",
       "1         March 30, 2021          2018      13+    110 min   \n",
       "2         March 30, 2021          2017  No info     74 min   \n",
       "3         March 30, 2021          2014  No info     69 min   \n",
       "4         March 30, 2021          1989  No info     45 min   \n",
       "...                  ...           ...      ...        ...   \n",
       "22993  November 20, 2019          2007        R    158 min   \n",
       "22994       July 1, 2019          2018    TV-Y7  2 Seasons   \n",
       "22995   November 1, 2019          2009        R     88 min   \n",
       "22996   January 11, 2020          2006       PG     88 min   \n",
       "22997      March 2, 2019          2015    TV-14    111 min   \n",
       "\n",
       "                                            listed_in  \\\n",
       "0                                       Comedy, Drama   \n",
       "1                                Drama, International   \n",
       "2                             Action, Drama, Suspense   \n",
       "3                                         Documentary   \n",
       "4                                      Drama, Fantasy   \n",
       "...                                               ...   \n",
       "22993                  Cult Movies, Dramas, Thrillers   \n",
       "22994          Kids' TV, Korean TV Shows, TV Comedies   \n",
       "22995                         Comedies, Horror Movies   \n",
       "22996              Children & Family Movies, Comedies   \n",
       "22997  Dramas, International Movies, Music & Musicals   \n",
       "\n",
       "                                             description     Plataform  \n",
       "0      A small fishing village must procure a local d...  Amazon Prime  \n",
       "1      A Metro Family decides to fight a Cyber Crimin...  Amazon Prime  \n",
       "2      After a man discovers his wife is cheating on ...  Amazon Prime  \n",
       "3      Pink breaks the mold once again, bringing her ...  Amazon Prime  \n",
       "4      Teenage Matt Banting wants to work with a famo...  Amazon Prime  \n",
       "...                                                  ...           ...  \n",
       "22993  A political cartoonist, a crime reporter and a...       Netflix  \n",
       "22994  While living alone in a spooky town, a young g...       Netflix  \n",
       "22995  Looking to survive in a world taken over by zo...       Netflix  \n",
       "22996  Dragged from civilian life, a former superhero...       Netflix  \n",
       "22997  A scrappy but poor boy worms his way into a ty...       Netflix  \n",
       "\n",
       "[22998 rows x 14 columns]"
      ]
     },
     "execution_count": 38,
     "metadata": {},
     "output_type": "execute_result"
    }
   ],
   "source": [
    "df_Films = pd.read_csv('Datasets/Datasets_creados/Films.csv')\n",
    "df_Films"
   ]
  },
  {
   "cell_type": "code",
   "execution_count": 4,
   "metadata": {},
   "outputs": [],
   "source": [
    "Amazon =df_Films[df_Films['Plataform'] == 'Amazon Prime']\n",
    "Disney =df_Films[df_Films['Plataform'] == 'Disney Plus']\n",
    "Netflix =df_Films[df_Films['Plataform'] == 'Netflix']\n",
    "Hulu =df_Films[df_Films['Plataform'] == 'Hulu']"
   ]
  },
  {
   "cell_type": "markdown",
   "metadata": {},
   "source": [
    "Creamos las Querys que pide el Proyecto final, definiendo funciones que luego exportaremos. "
   ]
  },
  {
   "cell_type": "markdown",
   "metadata": {},
   "source": [
    "Máxima duración según tipo de film (película/serie), por plataforma y por año"
   ]
  },
  {
   "cell_type": "code",
   "execution_count": 80,
   "metadata": {},
   "outputs": [],
   "source": [
    "def Max_temp_x_pel_y_año (año, plataforma, tipo):\n",
    "    #filtro en duracion por los que contienen 'min'\n",
    "    df_max_temp = df_Films[df_Films.duration.str.contains(tipo)]\n",
    "\n",
    "    #filtro por plataforma\n",
    "    df_max_temp = df_max_temp[df_max_temp['Plataform'] == plataforma]\n",
    "\n",
    "    #filtro por año\n",
    "    df_max_temp = df_max_temp[df_max_temp['release_year'] == año]\n",
    "\n",
    "    #quito min de la columna duration\n",
    "    df_max_temp['duration'] = df_max_temp['duration'].apply(lambda x: x.replace(\"min\",\"\"))\n",
    "    df_max_temp['duration'] = df_max_temp['duration'].str.strip()\n",
    "\n",
    "    #cambio el tipo de valores de la columna de objet a int\n",
    "    df_max_temp['duration'] = df_max_temp['duration'].astype(object).astype(int)\n",
    "\n",
    "    #reordeno el dataframe\n",
    "    df_max_temp = df_max_temp.sort_values('duration',ascending=False)\n",
    "    df_max_temp = pd.DataFrame(df_max_temp)\n",
    "    df_max_temp = df_max_temp.drop(['Id','director','cast','country','date_added','release_year','rating','duration','listed_in','description','Plataform',\t'Unnamed: 0', 'type'], axis = 1)\n",
    "    \n",
    "    #filtrom la promera fila\n",
    "    return df_max_temp.iloc[0,0]"
   ]
  },
  {
   "cell_type": "code",
   "execution_count": 81,
   "metadata": {},
   "outputs": [
    {
     "data": {
      "text/plain": [
       "'The House That Jack Built'"
      ]
     },
     "execution_count": 81,
     "metadata": {},
     "output_type": "execute_result"
    }
   ],
   "source": [
    "Max_temp_x_pel_y_año (2018, 'Hulu', 'min')"
   ]
  },
  {
   "cell_type": "code",
   "execution_count": 161,
   "metadata": {},
   "outputs": [],
   "source": [
    "def cantidad_film (plataforma):\n",
    "    cant_film = df_Films[df_Films['Plataform'] == plataforma]\n",
    "    x =cant_film.groupby(['type']) \n",
    "    x = x.drop(['Id','title','director','cast','country','date_added','release_year','rating','duration','listed_in','description','Plataform'], axis = 1)\n",
    "    x = x.transpose()\n",
    "    x.insert(2,\"Plataform\",[plataforma],True)\n",
    "    #x = x.drop(['type'], axis = 0)\n",
    "\n",
    "    Movie = x.iloc[0,0]\n",
    "    TV_Show = x.iloc[0,1]\n",
    "    plataform = x.iloc[0,2]\n",
    "    #return print('en la plataforma', plataform ,'hay', TV_Show, 'series y', Movie,'Peliculas')\n",
    "    return x"
   ]
  },
  {
   "cell_type": "code",
   "execution_count": 163,
   "metadata": {},
   "outputs": [
    {
     "data": {
      "text/html": [
       "<div>\n",
       "<style scoped>\n",
       "    .dataframe tbody tr th:only-of-type {\n",
       "        vertical-align: middle;\n",
       "    }\n",
       "\n",
       "    .dataframe tbody tr th {\n",
       "        vertical-align: top;\n",
       "    }\n",
       "\n",
       "    .dataframe thead th {\n",
       "        text-align: right;\n",
       "    }\n",
       "</style>\n",
       "<table border=\"1\" class=\"dataframe\">\n",
       "  <thead>\n",
       "    <tr style=\"text-align: right;\">\n",
       "      <th>type</th>\n",
       "      <th>Movie</th>\n",
       "      <th>TV Show</th>\n",
       "      <th>Plataform</th>\n",
       "    </tr>\n",
       "  </thead>\n",
       "  <tbody>\n",
       "    <tr>\n",
       "      <th>Unnamed: 0</th>\n",
       "      <td>6131</td>\n",
       "      <td>2676</td>\n",
       "      <td>Netflix</td>\n",
       "    </tr>\n",
       "  </tbody>\n",
       "</table>\n",
       "</div>"
      ],
      "text/plain": [
       "type        Movie  TV Show Plataform\n",
       "Unnamed: 0   6131     2676   Netflix"
      ]
     },
     "execution_count": 163,
     "metadata": {},
     "output_type": "execute_result"
    }
   ],
   "source": [
    "cantidad_film('Netflix')"
   ]
  },
  {
   "cell_type": "code",
   "execution_count": 8,
   "metadata": {},
   "outputs": [],
   "source": [
    "def actor_mas_actuo (plataforma, año):\n",
    "    actor = df_Films[df_Films['Plataform'] == plataforma]\n",
    "    actor = actor[actor['release_year'] == año]\n",
    "    lista_prov = actor.drop(['Id','title','director', 'country','date_added', 'rating','duration','description','type', 'Unnamed: 0'], axis = 1)\n",
    "\n",
    "    lista_prov = lista_prov[lista_prov['cast'] != 'No info']\n",
    "    lista_prov = lista_prov['cast'].str.split(', ').to_list()\n",
    "    lista_actores = []\n",
    "    for item in lista_prov:\n",
    "\n",
    "        lista_actores += item\n",
    "\n",
    "    #Ahora contamos las veces en que aparece un actor y lo metemos en un diccionario\n",
    "    contador = Counter(lista_actores)\n",
    "\n",
    "    #ordenamos el diccionario de forma descendente\n",
    "    contador = sorted(contador.items(), key = itemgetter (1), reverse = True)\n",
    "\n",
    "    mas_actuo = contador[0]\n",
    "    mas_actuo = list(mas_actuo)\n",
    "    \n",
    "    df_actor = pd.DataFrame()\n",
    "    actores = mas_actuo[0]\n",
    "    cantidad = mas_actuo[1]\n",
    "    df_actor['plataform'] = None\n",
    "    df_actor['actores'] = None\n",
    "    df_actor['cantidad'] = None\n",
    "    \n",
    "\n",
    "    nueva_fila = pd.Series([plataforma, actores, cantidad], index=df_actor.columns) \n",
    "    df_actor = df_actor.append(nueva_fila, ignore_index=True)\n",
    "\n",
    "\n",
    "    return df_actor"
   ]
  },
  {
   "cell_type": "code",
   "execution_count": 9,
   "metadata": {},
   "outputs": [
    {
     "name": "stderr",
     "output_type": "stream",
     "text": [
      "C:\\Users\\elune\\AppData\\Local\\Temp\\ipykernel_16840\\2099279289.py:31: FutureWarning: The frame.append method is deprecated and will be removed from pandas in a future version. Use pandas.concat instead.\n",
      "  df_actor = df_actor.append(nueva_fila, ignore_index=True)\n"
     ]
    },
    {
     "data": {
      "text/html": [
       "<div>\n",
       "<style scoped>\n",
       "    .dataframe tbody tr th:only-of-type {\n",
       "        vertical-align: middle;\n",
       "    }\n",
       "\n",
       "    .dataframe tbody tr th {\n",
       "        vertical-align: top;\n",
       "    }\n",
       "\n",
       "    .dataframe thead th {\n",
       "        text-align: right;\n",
       "    }\n",
       "</style>\n",
       "<table border=\"1\" class=\"dataframe\">\n",
       "  <thead>\n",
       "    <tr style=\"text-align: right;\">\n",
       "      <th></th>\n",
       "      <th>plataform</th>\n",
       "      <th>actores</th>\n",
       "      <th>cantidad</th>\n",
       "    </tr>\n",
       "  </thead>\n",
       "  <tbody>\n",
       "    <tr>\n",
       "      <th>0</th>\n",
       "      <td>Netflix</td>\n",
       "      <td>Andrea Libman</td>\n",
       "      <td>8</td>\n",
       "    </tr>\n",
       "  </tbody>\n",
       "</table>\n",
       "</div>"
      ],
      "text/plain": [
       "  plataform        actores cantidad\n",
       "0   Netflix  Andrea Libman        8"
      ]
     },
     "execution_count": 9,
     "metadata": {},
     "output_type": "execute_result"
    }
   ],
   "source": [
    "actor_mas_actuo('Netflix', 2018)"
   ]
  },
  {
   "cell_type": "markdown",
   "metadata": {},
   "source": [
    "Maxima duracion de una Serie y cual Maxima duracion de una pelicula y cual *falta y crear una union entre los filtros y el resultado*"
   ]
  },
  {
   "cell_type": "markdown",
   "metadata": {},
   "source": [
    "TVSerie = TVSerie[TVSerie['duration'] == TVSeries_max]\n",
    "TVShow_max = TVSerie['title']\n",
    "#Pido el valor maximo solo para que me devuelva el resultado como una variable, ya que el DatFrame solo se compone de una fila.\n",
    "TVShow_max = TVShow_max.max()\n",
    "TVShow_max"
   ]
  },
  {
   "cell_type": "markdown",
   "metadata": {},
   "source": [
    "Cantidad de películas y series (separado) por plataforma"
   ]
  },
  {
   "cell_type": "code",
   "execution_count": 158,
   "metadata": {},
   "outputs": [],
   "source": [
    "def cantidad_film (plataforma:str):\n",
    "    cant_film = df_Films[df_Films['Plataform'] == plataforma]\n",
    "    x =cant_film.groupby(['type']).count() \n",
    "    x = x.drop(['Id','title','director','cast','country','date_added','release_year','rating','duration','listed_in','description','Plataform'], axis = 1)\n",
    "    x = x.transpose()\n",
    "    x.insert(2,\"Plataform\",[plataforma],True)\n",
    "    #x = x.drop(['type'], axis = 0)\n",
    "    return x"
   ]
  },
  {
   "cell_type": "code",
   "execution_count": 159,
   "metadata": {},
   "outputs": [
    {
     "data": {
      "text/html": [
       "<div>\n",
       "<style scoped>\n",
       "    .dataframe tbody tr th:only-of-type {\n",
       "        vertical-align: middle;\n",
       "    }\n",
       "\n",
       "    .dataframe tbody tr th {\n",
       "        vertical-align: top;\n",
       "    }\n",
       "\n",
       "    .dataframe thead th {\n",
       "        text-align: right;\n",
       "    }\n",
       "</style>\n",
       "<table border=\"1\" class=\"dataframe\">\n",
       "  <thead>\n",
       "    <tr style=\"text-align: right;\">\n",
       "      <th>type</th>\n",
       "      <th>Movie</th>\n",
       "      <th>TV Show</th>\n",
       "      <th>Plataform</th>\n",
       "    </tr>\n",
       "  </thead>\n",
       "  <tbody>\n",
       "    <tr>\n",
       "      <th>Unnamed: 0</th>\n",
       "      <td>7814</td>\n",
       "      <td>1854</td>\n",
       "      <td>Amazon Prime</td>\n",
       "    </tr>\n",
       "  </tbody>\n",
       "</table>\n",
       "</div>"
      ],
      "text/plain": [
       "type        Movie  TV Show     Plataform\n",
       "Unnamed: 0   7814     1854  Amazon Prime"
      ]
     },
     "execution_count": 159,
     "metadata": {},
     "output_type": "execute_result"
    }
   ],
   "source": [
    "#Funcion de preuba\n",
    "cantidad_film ('Amazon Prime')"
   ]
  },
  {
   "cell_type": "markdown",
   "metadata": {},
   "source": [
    "Cantidad de veces que se repite un género y plataforma con mayor frecuencia del mismo"
   ]
  },
  {
   "cell_type": "code",
   "execution_count": 170,
   "metadata": {},
   "outputs": [],
   "source": [
    "def top_genero (genero):\n",
    "    top_genero = df_Films[df_Films.listed_in.str.contains(genero)]\n",
    "    contando = top_genero['Plataform'].value_counts()\n",
    "    contando = pd.DataFrame(contando)\n",
    "    resultado = contando.iloc[0,0]\n",
    "    return contando.head(1)\n"
   ]
  },
  {
   "cell_type": "code",
   "execution_count": 171,
   "metadata": {},
   "outputs": [
    {
     "data": {
      "text/html": [
       "<div>\n",
       "<style scoped>\n",
       "    .dataframe tbody tr th:only-of-type {\n",
       "        vertical-align: middle;\n",
       "    }\n",
       "\n",
       "    .dataframe tbody tr th {\n",
       "        vertical-align: top;\n",
       "    }\n",
       "\n",
       "    .dataframe thead th {\n",
       "        text-align: right;\n",
       "    }\n",
       "</style>\n",
       "<table border=\"1\" class=\"dataframe\">\n",
       "  <thead>\n",
       "    <tr style=\"text-align: right;\">\n",
       "      <th></th>\n",
       "      <th>Plataform</th>\n",
       "    </tr>\n",
       "  </thead>\n",
       "  <tbody>\n",
       "    <tr>\n",
       "      <th>Amazon Prime</th>\n",
       "      <td>2099</td>\n",
       "    </tr>\n",
       "  </tbody>\n",
       "</table>\n",
       "</div>"
      ],
      "text/plain": [
       "              Plataform\n",
       "Amazon Prime       2099"
      ]
     },
     "execution_count": 171,
     "metadata": {},
     "output_type": "execute_result"
    }
   ],
   "source": [
    "top_genero('Comedy')"
   ]
  },
  {
   "cell_type": "markdown",
   "metadata": {},
   "source": [
    "Actor que más se repite según plataforma y año"
   ]
  },
  {
   "cell_type": "code",
   "execution_count": 12,
   "metadata": {},
   "outputs": [],
   "source": [
    "def Actor_mas_actuo(genero, plataforma):\n",
    "\n",
    "    #filtro para las plataformas\n",
    "    Amazon =df_Films[df_Films['Plataform'] == 'Amazon Prime']\n",
    "    Disney =df_Films[df_Films['Plataform'] == 'Disney Plus']\n",
    "    Netflix =df_Films[df_Films['Plataform'] == 'Netflix']\n",
    "    Hulu =df_Films[df_Films['Plataform'] == 'Hulu']\n",
    "\n",
    "    #filtro las plataformas con if\n",
    "    if plataforma == 'Amazon_Prime':\n",
    "        x = Amazon.copy() \n",
    "\n",
    "    if plataforma == 'Disney_Plus':\n",
    "        x = Disney.copy()\n",
    "\n",
    "    if plataforma == 'Netflix':\n",
    "        x = Netflix.copy() \n",
    "\n",
    "    if plataforma == 'Hulu':\n",
    "        x = Hulu.copy()  \n",
    "\n",
    "    df_prueba = x[x['listed_in'].str.contains(genero)]\n",
    "    return df_prueba.shape[0]"
   ]
  },
  {
   "cell_type": "code",
   "execution_count": 13,
   "metadata": {},
   "outputs": [
    {
     "data": {
      "text/plain": [
       "2099"
      ]
     },
     "execution_count": 13,
     "metadata": {},
     "output_type": "execute_result"
    }
   ],
   "source": [
    "#Funcion de prueba\n",
    "Actor_mas_actuo('Comedy','Amazon_Prime')"
   ]
  },
  {
   "cell_type": "markdown",
   "metadata": {},
   "source": [
    "TOP 5 actores con más films actuados"
   ]
  },
  {
   "cell_type": "code",
   "execution_count": 1,
   "metadata": {},
   "outputs": [],
   "source": [
    "def TOP_actores():\n",
    "    TOP_actores = df_Films[df_Films['cast'] != 'No info']\n",
    "\n",
    "        #cambiamos el tipo de columna para poder utilizar la funcion split\n",
    "    TOP_actores['cast'] = TOP_actores['cast'].astype(object).astype(str)\n",
    "\n",
    "        #utilizamos la funcion split para poder separar los actores y meterlos en una lista\n",
    "    lista_actores_en_lista = TOP_actores['cast'].str.split(', '). to_list()\n",
    "    lista_actores = []\n",
    "    for item in lista_actores_en_lista:\n",
    "\n",
    "        lista_actores += item\n",
    "\n",
    "    #Ahora contamos las veces en que aparece un actor y lo metemos en un diccionario\n",
    "    contador = Counter(lista_actores)\n",
    "\n",
    "    #ordenamos el diccionario de forma descendente\n",
    "    contador = sorted(contador.items(), key = itemgetter (1), reverse = True)\n",
    "    \n",
    "    #Por ultimo pedimos solo los primeros 5\n",
    "    return contador\n",
    "\n",
    "    "
   ]
  },
  {
   "cell_type": "code",
   "execution_count": 2,
   "metadata": {},
   "outputs": [
    {
     "ename": "NameError",
     "evalue": "name 'df_Films' is not defined",
     "output_type": "error",
     "traceback": [
      "\u001b[1;31m---------------------------------------------------------------------------\u001b[0m",
      "\u001b[1;31mNameError\u001b[0m                                 Traceback (most recent call last)",
      "\u001b[1;32md:\\BootCamp\\BOOTCAMP Data Science\\course\\PI Engineer\\PI01_DATA05-main\\querys.ipynb Celda 24\u001b[0m in \u001b[0;36m<cell line: 2>\u001b[1;34m()\u001b[0m\n\u001b[0;32m      <a href='vscode-notebook-cell:/d%3A/BootCamp/BOOTCAMP%20Data%20Science/course/PI%20Engineer/PI01_DATA05-main/querys.ipynb#X32sZmlsZQ%3D%3D?line=0'>1</a>\u001b[0m \u001b[39m#funcionj de prueba\u001b[39;00m\n\u001b[1;32m----> <a href='vscode-notebook-cell:/d%3A/BootCamp/BOOTCAMP%20Data%20Science/course/PI%20Engineer/PI01_DATA05-main/querys.ipynb#X32sZmlsZQ%3D%3D?line=1'>2</a>\u001b[0m TOP_actores()\n",
      "\u001b[1;32md:\\BootCamp\\BOOTCAMP Data Science\\course\\PI Engineer\\PI01_DATA05-main\\querys.ipynb Celda 24\u001b[0m in \u001b[0;36mTOP_actores\u001b[1;34m()\u001b[0m\n\u001b[0;32m      <a href='vscode-notebook-cell:/d%3A/BootCamp/BOOTCAMP%20Data%20Science/course/PI%20Engineer/PI01_DATA05-main/querys.ipynb#X32sZmlsZQ%3D%3D?line=0'>1</a>\u001b[0m \u001b[39mdef\u001b[39;00m \u001b[39mTOP_actores\u001b[39m():\n\u001b[1;32m----> <a href='vscode-notebook-cell:/d%3A/BootCamp/BOOTCAMP%20Data%20Science/course/PI%20Engineer/PI01_DATA05-main/querys.ipynb#X32sZmlsZQ%3D%3D?line=1'>2</a>\u001b[0m     TOP_actores \u001b[39m=\u001b[39m df_Films[df_Films[\u001b[39m'\u001b[39m\u001b[39mcast\u001b[39m\u001b[39m'\u001b[39m] \u001b[39m!=\u001b[39m \u001b[39m'\u001b[39m\u001b[39mNo info\u001b[39m\u001b[39m'\u001b[39m]\n\u001b[0;32m      <a href='vscode-notebook-cell:/d%3A/BootCamp/BOOTCAMP%20Data%20Science/course/PI%20Engineer/PI01_DATA05-main/querys.ipynb#X32sZmlsZQ%3D%3D?line=3'>4</a>\u001b[0m         \u001b[39m#cambiamos el tipo de columna para poder utilizar la funcion split\u001b[39;00m\n\u001b[0;32m      <a href='vscode-notebook-cell:/d%3A/BootCamp/BOOTCAMP%20Data%20Science/course/PI%20Engineer/PI01_DATA05-main/querys.ipynb#X32sZmlsZQ%3D%3D?line=4'>5</a>\u001b[0m     TOP_actores[\u001b[39m'\u001b[39m\u001b[39mcast\u001b[39m\u001b[39m'\u001b[39m] \u001b[39m=\u001b[39m TOP_actores[\u001b[39m'\u001b[39m\u001b[39mcast\u001b[39m\u001b[39m'\u001b[39m]\u001b[39m.\u001b[39mastype(\u001b[39mobject\u001b[39m)\u001b[39m.\u001b[39mastype(\u001b[39mstr\u001b[39m)\n",
      "\u001b[1;31mNameError\u001b[0m: name 'df_Films' is not defined"
     ]
    }
   ],
   "source": [
    "#funcionj de prueba\n",
    "TOP_actores()"
   ]
  },
  {
   "cell_type": "markdown",
   "metadata": {},
   "source": [
    "TOP 5 directores con mas filma dirigidos"
   ]
  },
  {
   "cell_type": "code",
   "execution_count": 364,
   "metadata": {},
   "outputs": [],
   "source": [
    "def TOP_directores():\n",
    "    TOP_directores = df_Films[df_Films['director'] != 'No info']\n",
    "\n",
    "    #cambiamos el tipo de columna para poder utilizar la funcion split\n",
    "    TOP_directores['director'] = TOP_directores['director'].astype(object).astype(str)\n",
    "\n",
    "    #creamos una lista con los directores\n",
    "    lista_directores = TOP_directores['director'].to_list()\n",
    "    lista_directores\n",
    "\n",
    "    #En este caso no hay necesidad de el paso para crear una sola lista ya que es una sola desde el princpio\n",
    "    #Ahora contamos las veces en que aparece un director y lo metemos en un diccionario\n",
    "    contador = Counter(lista_directores)\n",
    "\n",
    "    #ordenamos el diccionario de forma descendente\n",
    "    contador = sorted(contador.items(), key = itemgetter (1), reverse = True)\n",
    "    \n",
    "    #Por ultimo pedimos solo los primeros 5\n",
    "    return contador[0:5]"
   ]
  },
  {
   "cell_type": "code",
   "execution_count": 365,
   "metadata": {},
   "outputs": [
    {
     "name": "stderr",
     "output_type": "stream",
     "text": [
      "C:\\Users\\elune\\AppData\\Local\\Temp\\ipykernel_16192\\3047744473.py:4: SettingWithCopyWarning: \n",
      "A value is trying to be set on a copy of a slice from a DataFrame.\n",
      "Try using .loc[row_indexer,col_indexer] = value instead\n",
      "\n",
      "See the caveats in the documentation: https://pandas.pydata.org/pandas-docs/stable/user_guide/indexing.html#returning-a-view-versus-a-copy\n",
      "  TOP_directores['director'] = TOP_directores['director'].astype(object).astype(str)\n"
     ]
    },
    {
     "data": {
      "text/plain": [
       "[('Mark Knight', 113),\n",
       " ('Cannis Holder', 61),\n",
       " ('Jay Chapman', 46),\n",
       " ('Moonbug Entertainment', 37),\n",
       " ('Arthur van Merwijk', 30)]"
      ]
     },
     "execution_count": 365,
     "metadata": {},
     "output_type": "execute_result"
    }
   ],
   "source": [
    "#funcion de prueba\n",
    "TOP_directores()"
   ]
  }
 ],
 "metadata": {
  "kernelspec": {
   "display_name": "Python 3.10.5 64-bit",
   "language": "python",
   "name": "python3"
  },
  "language_info": {
   "codemirror_mode": {
    "name": "ipython",
    "version": 3
   },
   "file_extension": ".py",
   "mimetype": "text/x-python",
   "name": "python",
   "nbconvert_exporter": "python",
   "pygments_lexer": "ipython3",
   "version": "3.10.5"
  },
  "orig_nbformat": 4,
  "vscode": {
   "interpreter": {
    "hash": "f7e69ca828171fa42c77f9625c144776281f474eb73a3cc5987e54164eb7a92b"
   }
  }
 },
 "nbformat": 4,
 "nbformat_minor": 2
}
